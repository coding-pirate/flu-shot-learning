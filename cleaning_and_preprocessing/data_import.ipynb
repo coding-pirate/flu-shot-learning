{
 "cells": [
  {
   "cell_type": "code",
   "execution_count": 1,
   "metadata": {},
   "outputs": [],
   "source": [
    "import pandas as pd\n",
    "from pathlib import Path\n",
    "import numpy as np\n",
    "import import_ipynb"
   ]
  },
  {
   "cell_type": "code",
   "execution_count": 11,
   "metadata": {},
   "outputs": [],
   "source": [
    "features_df = pd.read_csv(\n",
    "    \"/Users/kaushalshah/Desktop/Computer Science/DrivenData/training_set_features.csv\", \n",
    "    index_col = \"respondent_id\"\n",
    ")\n",
    "\n",
    "labels_df = pd.read_csv(\n",
    "    \"/Users/kaushalshah/Desktop/Computer Science/DrivenData/training_set_labels.csv\", \n",
    "    index_col = \"respondent_id\"\n",
    ")\n",
    "\n",
    "test_df = pd.read_csv(\n",
    "    \"/Users/kaushalshah/Desktop/Computer Science/DrivenData/test_set_features.csv\", \n",
    "    index_col = \"respondent_id\"\n",
    ")\n",
    "\n",
    "submission_df = pd.read_csv(\"/Users/kaushalshah/Desktop/Computer Science/DrivenData/submission_format.csv\", \n",
    "                            index_col=\"respondent_id\"\n",
    ")"
   ]
  },
  {
   "cell_type": "code",
   "execution_count": null,
   "metadata": {},
   "outputs": [],
   "source": []
  }
 ],
 "metadata": {
  "kernelspec": {
   "display_name": "Python 3",
   "language": "python",
   "name": "python3"
  },
  "language_info": {
   "codemirror_mode": {
    "name": "ipython",
    "version": 3
   },
   "file_extension": ".py",
   "mimetype": "text/x-python",
   "name": "python",
   "nbconvert_exporter": "python",
   "pygments_lexer": "ipython3",
   "version": "3.8.3"
  }
 },
 "nbformat": 4,
 "nbformat_minor": 4
}
